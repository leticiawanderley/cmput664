{
 "cells": [
  {
   "cell_type": "code",
   "execution_count": 54,
   "metadata": {},
   "outputs": [],
   "source": [
    "import matplotlib.pyplot as plt\n",
    "import numpy as np\n",
    "import pandas as pd\n",
    "from sklearn.model_selection import train_test_split\n",
    "from sklearn.ensemble import RandomForestClassifier"
   ]
  },
  {
   "cell_type": "code",
   "execution_count": 55,
   "metadata": {},
   "outputs": [],
   "source": [
    "df = pd.read_csv('./dataframe.csv')\n",
    "df = df.drop(['Unnamed: 0'], axis=1)\n",
    "df = df[df.language != 'Dutch']\n",
    "df = df[df.error_type != 'S']\n",
    "df = df[df.error_type != 'SA']\n",
    "df = df[df.error_type != 'SX']"
   ]
  },
  {
   "cell_type": "code",
   "execution_count": 56,
   "metadata": {},
   "outputs": [],
   "source": [
    "def concat_dummies(df, dummies):\n",
    "    for dummy in list(dummies):\n",
    "        df[dummy] = dummies[dummy]"
   ]
  },
  {
   "cell_type": "code",
   "execution_count": 57,
   "metadata": {},
   "outputs": [],
   "source": [
    "def merge_wrong_corrected_columns(df, wrong_column, corrected_column, prefix):\n",
    "    wrong = pd.get_dummies(df[wrong_column], prefix=prefix)\n",
    "    corrected = pd.get_dummies(df[corrected_column], prefix=prefix)\n",
    "    for wc in list(set(wrong) - set(corrected)):\n",
    "        corrected[wc] = 0\n",
    "    for cc in list(set(corrected) - set(wrong)):\n",
    "        wrong[cc] = 0\n",
    "    wrong = wrong.where(wrong == 1, -3)\n",
    "    wrong = wrong.where(wrong == -3, -1)\n",
    "    corrected = corrected.where(corrected != 1, 4)\n",
    "    merged = wrong.add(corrected)\n",
    "    merged = merged.where(merged != 3, 0)\n",
    "    return merged"
   ]
  },
  {
   "cell_type": "code",
   "execution_count": 58,
   "metadata": {},
   "outputs": [],
   "source": [
    "merged_pos = merge_wrong_corrected_columns(df, 'error_pos', 'correct_pos', 'u')\n",
    "merged_pos_2 = merge_wrong_corrected_columns(df, 'error_pos_2', 'correct_pos_2', 'b')\n",
    "merged_pos_3 = merge_wrong_corrected_columns(df, 'error_pos_3', 'correct_pos_3', 't')\n",
    "concat_dummies(df, merged_pos)\n",
    "concat_dummies(df, merged_pos_2)\n",
    "concat_dummies(df, merged_pos_3)"
   ]
  },
  {
   "cell_type": "code",
   "execution_count": 59,
   "metadata": {},
   "outputs": [],
   "source": [
    "languages = {'language': {'French': 1, 'Spanish': 2, 'Catalan': 3, 'Portuguese': 4, 'Italian': 5, 'Polish': 6, 'Russian': 7,\n",
    "'Greek': 8,'German': 9, 'Swedish': 10, 'Japanese': 11, 'Korean': 12, 'Turkish': 13, 'Chinese': 14, 'Thai':15}}\n",
    "df.replace(languages, inplace=True)"
   ]
  },
  {
   "cell_type": "code",
   "execution_count": 60,
   "metadata": {},
   "outputs": [],
   "source": [
    "y = df['error_type']"
   ]
  },
  {
   "cell_type": "code",
   "execution_count": 61,
   "metadata": {},
   "outputs": [],
   "source": [
    "x_train, x_test, y_train, y_test = train_test_split(df, y, test_size=0.2)\n",
    "fit_data = x_train[list(merged_pos) + list(merged_pos_2) \n",
    "        + list(merged_pos_3) + ['language', 'error_length']]\n",
    "test_data = x_test[list(merged_pos) + list(merged_pos_2) \n",
    "        + list(merged_pos_3) + ['language', 'error_length']]"
   ]
  },
  {
   "cell_type": "code",
   "execution_count": 62,
   "metadata": {},
   "outputs": [
    {
     "data": {
      "text/plain": [
       "RandomForestClassifier(bootstrap=True, class_weight=None, criterion='gini',\n",
       "            max_depth=30, max_features='auto', max_leaf_nodes=None,\n",
       "            min_impurity_decrease=0.0, min_impurity_split=None,\n",
       "            min_samples_leaf=1, min_samples_split=2,\n",
       "            min_weight_fraction_leaf=0.0, n_estimators=500, n_jobs=None,\n",
       "            oob_score=False, random_state=0, verbose=0, warm_start=False)"
      ]
     },
     "execution_count": 62,
     "metadata": {},
     "output_type": "execute_result"
    }
   ],
   "source": [
    "clf = RandomForestClassifier(n_estimators=500, max_depth=30, random_state=0)\n",
    "clf.fit(fit_data, y_train)"
   ]
  },
  {
   "cell_type": "code",
   "execution_count": 63,
   "metadata": {},
   "outputs": [
    {
     "data": {
      "text/plain": [
       "0.725183041035246"
      ]
     },
     "execution_count": 63,
     "metadata": {},
     "output_type": "execute_result"
    }
   ],
   "source": [
    "clf.score(test_data, y_test)"
   ]
  },
  {
   "cell_type": "code",
   "execution_count": 64,
   "metadata": {},
   "outputs": [
    {
     "name": "stdout",
     "output_type": "stream",
     "text": [
      "RJ IJ 3\n",
      "FN AGN 52\n",
      "RV TV 43\n",
      "UT UC 10\n",
      "UV FV 2\n",
      "RV IV 52\n",
      "FN IJ 2\n",
      "RD AGD 13\n",
      "UT R 15\n",
      "IV RV 8\n",
      "FN CN 20\n",
      "RV AGV 18\n",
      "RT R 26\n",
      "RV RJ 3\n",
      "DN IN 2\n",
      "RN RA 6\n",
      "RN DN 34\n",
      "TV MV 2\n",
      "R W 8\n",
      "DY RY 9\n",
      "TV RV 56\n",
      "RQ R 3\n",
      "DJ RJ 7\n",
      "UV RV 3\n",
      "IJ IQ 3\n",
      "UD RQ 3\n",
      "UD RA 6\n",
      "W R 28\n",
      "TV DJ 2\n",
      "RJ R 5\n",
      "RJ DJ 45\n",
      "TV W 5\n",
      "TV X 5\n",
      "RN IN 21\n",
      "RV FV 9\n",
      "AGN FN 45\n",
      "W RY 3\n",
      "U R 7\n",
      "FN RN 17\n",
      "RV R 12\n",
      "DJ IJ 3\n",
      "RY R 16\n",
      "RY L 2\n",
      "TV FV 13\n",
      "AGV RV 9\n",
      "FD R 2\n",
      "R RA 4\n",
      "RN AGN 7\n",
      "R ID 10\n",
      "RN R 12\n",
      "RY W 2\n",
      "RD RQ 7\n",
      "RA AGA 25\n",
      "IJ RJ 2\n",
      "UT UV 3\n",
      "RY DY 49\n",
      "RC UC 2\n",
      "RT UT 8\n",
      "UC UY 5\n",
      "CN FN 8\n",
      "R U 10\n",
      "UD R 5\n",
      "FV UV 8\n",
      "RD R 13\n",
      "W U 11\n",
      "UT UY 8\n",
      "RN UN 8\n",
      "RN CN 2\n",
      "AGN IN 2\n",
      "FV TV 9\n",
      "ID W 5\n",
      "RJ AGQ 2\n",
      "RD UV 2\n",
      "RD FD 12\n",
      "RV RT 2\n",
      "W ID 12\n",
      "RJ CQ 5\n",
      "RT RY 3\n",
      "RV DV 12\n",
      "TV UV 12\n",
      "W UV 3\n",
      "CN AGN 5\n",
      "MA M 3\n",
      "RQ RD 5\n",
      "CN RN 3\n",
      "RA UD 4\n",
      "R AS 3\n",
      "AGN DN 6\n",
      "ID R 9\n",
      "RT RJ 2\n",
      "R RT 7\n",
      "W X 4\n",
      "RC R 8\n",
      "RY RC 3\n",
      "RN FN 2\n",
      "RY RT 5\n",
      "U W 5\n",
      "RA UA 4\n",
      "RY FY 11\n",
      "TV R 10\n",
      "RT L 5\n",
      "W TV 6\n",
      "W UY 2\n",
      "UT W 4\n",
      "R RQ 3\n",
      "W AS 10\n",
      "UD UQ 8\n",
      "UA R 5\n",
      "TV IV 7\n",
      "RT W 3\n",
      "AGN CN 11\n",
      "FN DN 5\n",
      "RV UJ 2\n",
      "RV UV 16\n",
      "AGN RN 10\n",
      "R AGQ 2\n",
      "TV AS 4\n",
      "FD RD 3\n",
      "RN ID 3\n",
      "U UY 2\n",
      "IV RJ 2\n",
      "UT RY 4\n",
      "R RC 8\n",
      "RN W 2\n",
      "RD UD 5\n",
      "UT FV 2\n",
      "RA R 14\n",
      "UY W 3\n",
      "UY UT 3\n",
      "W DN 7\n",
      "TV UN 2\n",
      "UY UC 2\n",
      "W RN 6\n",
      "FV RV 5\n",
      "DD RD 2\n",
      "TV AGV 2\n",
      "UV UY 3\n",
      "ID RY 3\n",
      "RV DN 4\n",
      "RV AS 4\n",
      "UY UV 2\n",
      "RT RC 4\n",
      "DJ R 5\n",
      "RT U 3\n",
      "R UN 2\n",
      "R UJ 2\n",
      "RV RY 2\n",
      "UA UC 2\n",
      "R UV 4\n",
      "IJ R 2\n",
      "UN R 3\n",
      "AGA RA 3\n",
      "FJ IJ 4\n",
      "R RY 5\n",
      "DJ TV 4\n",
      "FV R 8\n",
      "RA W 2\n",
      "W CL 3\n",
      "UD AGQ 3\n",
      "R RD 3\n",
      "FN IN 4\n",
      "RD CQ 2\n",
      "DN AGN 2\n",
      "R UT 3\n",
      "W UT 3\n",
      "RY UT 4\n",
      "RY UY 4\n",
      "RV DJ 3\n",
      "DY RJ 2\n",
      "FV AGV 2\n",
      "FN DJ 4\n",
      "RV UY 2\n",
      "AGD RQ 2\n",
      "DN RN 2\n",
      "UD AGD 2\n",
      "AGD AGQ 3\n",
      "RN RJ 2\n",
      "UC UT 2\n",
      "RV ID 2\n",
      "W RQ 3\n",
      "AGD RD 4\n",
      "R X 3\n",
      "AGV TV 3\n",
      "RA RQ 2\n",
      "DN R 2\n",
      "RN L 6\n",
      "UT UA 4\n",
      "UC U 2\n",
      "RC X 2\n",
      "RD DD 2\n",
      "R UA 2\n",
      "AS RV 2\n",
      "R UC 2\n",
      "ID U 2\n",
      "UA UN 2\n",
      "AGA R 2\n",
      "R IN 2\n",
      "RA DA 2\n",
      "DN RJ 2\n",
      "RQ AGD 2\n",
      "RY ID 2\n",
      "DN FV 2\n",
      "UT RA 2\n",
      "UD U 2\n"
     ]
    }
   ],
   "source": [
    "predictions = clf.predict(test_data)\n",
    "values = list(y_test)\n",
    "count = 0\n",
    "dict_errors = {}\n",
    "for i in range(len(predictions)):\n",
    "    if predictions[i] != values[i]:\n",
    "        tuple_err = predictions[i] + ' ' + values[i]\n",
    "        if tuple_err in dict_errors:\n",
    "            dict_errors[tuple_err] += 1\n",
    "        else:\n",
    "            dict_errors[tuple_err] = 1\n",
    "\n",
    "for t in dict_errors.keys():\n",
    "    if dict_errors[t] > 1:\n",
    "        print(t, dict_errors[t])"
   ]
  },
  {
   "cell_type": "code",
   "execution_count": 65,
   "metadata": {},
   "outputs": [],
   "source": [
    "importances = pd.DataFrame({'feature': list(fit_data), 'feature_importance': clf.feature_importances_})\n",
    "importances = importances.set_index('feature')"
   ]
  },
  {
   "cell_type": "code",
   "execution_count": 66,
   "metadata": {},
   "outputs": [
    {
     "data": {
      "text/plain": [
       "<matplotlib.axes._subplots.AxesSubplot at 0x3517cab00>"
      ]
     },
     "execution_count": 66,
     "metadata": {},
     "output_type": "execute_result"
    },
    {
     "data": {
      "image/png": "[encoded data removed]",
      "text/plain": [
       "<Figure size 432x288 with 1 Axes>"
      ]
     },
     "metadata": {
      "needs_background": "light"
     },
     "output_type": "display_data"
    }
   ],
   "source": [
    "importances = importances.sort_values(by=['feature_importance'], ascending=False)\n",
    "top_10 = importances[:10]\n",
    "top_10.plot(kind='barh')"
   ]
  },
  {
   "cell_type": "code",
   "execution_count": null,
   "metadata": {},
   "outputs": [],
   "source": []
  }
 ],
 "metadata": {
  "kernelspec": {
   "display_name": "Python 3",
   "language": "python",
   "name": "python3"
  },
  "language_info": {
   "codemirror_mode": {
    "name": "ipython",
    "version": 3
   },
   "file_extension": ".py",
   "mimetype": "text/x-python",
   "name": "python",
   "nbconvert_exporter": "python",
   "pygments_lexer": "ipython3",
   "version": "3.7.1"
  }
 },
 "nbformat": 4,
 "nbformat_minor": 2
}
