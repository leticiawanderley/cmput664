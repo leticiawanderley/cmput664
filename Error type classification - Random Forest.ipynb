{
 "cells": [
  {
   "cell_type": "code",
   "execution_count": 121,
   "metadata": {},
   "outputs": [],
   "source": [
    "import matplotlib.pyplot as plt\n",
    "import numpy as np\n",
    "import pandas as pd\n",
    "from sklearn.model_selection import train_test_split\n",
    "from sklearn.ensemble import RandomForestClassifier"
   ]
  },
  {
   "cell_type": "code",
   "execution_count": 122,
   "metadata": {},
   "outputs": [],
   "source": [
    "df = pd.read_csv('./dataframe.csv')\n",
    "df = df.drop(['Unnamed: 0'], axis=1)\n",
    "df = df[df.language != 'Dutch']\n",
    "df = df[df.error_type != 'S']\n",
    "df = df[df.error_type != 'SA']\n",
    "df = df[df.error_type != 'SX']"
   ]
  },
  {
   "cell_type": "code",
   "execution_count": 123,
   "metadata": {},
   "outputs": [],
   "source": [
    "def concat_dummies(df, dummies):\n",
    "    for dummy in list(dummies):\n",
    "        df[dummy] = dummies[dummy]\n",
    "    return list(dummies)"
   ]
  },
  {
   "cell_type": "code",
   "execution_count": 124,
   "metadata": {},
   "outputs": [],
   "source": [
    "def create_dummies(df, column, prefix):\n",
    "    dummies = pd.get_dummies(df[column], prefix=prefix)\n",
    "    return concat_dummies(df, dummies)"
   ]
  },
  {
   "cell_type": "code",
   "execution_count": 125,
   "metadata": {},
   "outputs": [],
   "source": [
    "w_first_pos = create_dummies(df, 'error_pos', 'w_first_pos')\n",
    "w_second_pos = create_dummies(df, 'error_pos_2', 'w_second_pos')\n",
    "w_third_pos = create_dummies(df, 'error_pos_3', 'w_third_pos')\n",
    "c_first_pos = create_dummies(df, 'correct_pos', 'c_first_pos')\n",
    "c_second_pos = create_dummies(df, 'correct_pos_2', 'c_second_pos')\n",
    "c_third_pos = create_dummies(df, 'correct_pos_3', 'c_third_pos')"
   ]
  },
  {
   "cell_type": "code",
   "execution_count": 126,
   "metadata": {},
   "outputs": [],
   "source": [
    "w_first_dep = create_dummies(df, 'e_dep', 'w_first_dep')\n",
    "w_second_dep = create_dummies(df, 'e_dep_2', 'w_second_dep')\n",
    "w_third_dep = create_dummies(df, 'e_dep_3', 'w_third_dep')\n",
    "c_first_dep = create_dummies(df, 'c_dep', 'c_first_dep')\n",
    "c_second_dep = create_dummies(df, 'c_dep_2', 'c_second_dep')\n",
    "c_third_dep = create_dummies(df, 'c_dep_3', 'c_third_dep')"
   ]
  },
  {
   "cell_type": "code",
   "execution_count": 127,
   "metadata": {},
   "outputs": [],
   "source": [
    "languages = {'language': {'French': 1, 'Spanish': 2, 'Catalan': 3, 'Portuguese': 4, 'Italian': 5, 'Polish': 6, 'Russian': 7,\n",
    "'Greek': 8,'German': 9, 'Swedish': 10, 'Japanese': 11, 'Korean': 12, 'Turkish': 13, 'Chinese': 14, 'Thai':15}}\n",
    "df.replace(languages, inplace=True)"
   ]
  },
  {
   "cell_type": "code",
   "execution_count": 142,
   "metadata": {},
   "outputs": [],
   "source": [
    "y = df['error_type']"
   ]
  },
  {
   "cell_type": "code",
   "execution_count": 143,
   "metadata": {},
   "outputs": [],
   "source": [
    "x_train, x_test, y_train, y_test = train_test_split(df, y, test_size=0.2)\n",
    "fit_data = x_train[list(w_first_pos) + list(w_second_pos)\n",
    "        + list(w_third_pos) + list(c_first_pos) + list(c_second_pos) \n",
    "        + list(c_third_pos) + list(w_first_dep) + list(w_second_dep) \n",
    "        + list(w_third_dep) + list(c_first_dep) + list(c_second_dep) \n",
    "        + list(c_third_dep) + ['language', 'error_length',\n",
    "         'first_first_pos', 'first_second_pos', 'first_third_pos',\n",
    "         'second_first_pos', 'second_second_pos', 'second_third_pos',\n",
    "         'third_first_pos', 'third_second_pos', 'third_third_pos',\n",
    "         'first_first_dep', 'first_second_dep', 'first_third_dep',\n",
    "         'second_first_dep', 'second_second_dep', 'second_third_dep',\n",
    "         'third_first_dep', 'third_second_dep', 'third_third_dep']]\n",
    "test_data = x_test[list(w_first_pos) + list(w_second_pos)\n",
    "        + list(w_third_pos) + list(c_first_pos) + list(c_second_pos)\n",
    "        + list(c_third_pos) + list(w_first_dep) + list(w_second_dep) \n",
    "        + list(w_third_dep) + list(c_first_dep) + list(c_second_dep) \n",
    "        + list(c_third_dep) + ['language', 'error_length',\n",
    "         'first_first_pos', 'first_second_pos', 'first_third_pos',\n",
    "         'second_first_pos', 'second_second_pos', 'second_third_pos',\n",
    "         'third_first_pos', 'third_second_pos', 'third_third_pos',\n",
    "         'first_first_dep', 'first_second_dep', 'first_third_dep',\n",
    "         'second_first_dep', 'second_second_dep', 'second_third_dep',\n",
    "         'third_first_dep', 'third_second_dep', 'third_third_dep']]"
   ]
  },
  {
   "cell_type": "code",
   "execution_count": 144,
   "metadata": {},
   "outputs": [
    {
     "data": {
      "text/plain": [
       "RandomForestClassifier(bootstrap=True, class_weight=None, criterion='gini',\n",
       "            max_depth=30, max_features='auto', max_leaf_nodes=None,\n",
       "            min_impurity_decrease=0.0, min_impurity_split=None,\n",
       "            min_samples_leaf=1, min_samples_split=2,\n",
       "            min_weight_fraction_leaf=0.0, n_estimators=500, n_jobs=None,\n",
       "            oob_score=False, random_state=0, verbose=0, warm_start=False)"
      ]
     },
     "execution_count": 144,
     "metadata": {},
     "output_type": "execute_result"
    }
   ],
   "source": [
    "clf = RandomForestClassifier(n_estimators=500, max_depth=30, random_state=0)\n",
    "clf.fit(fit_data, y_train)"
   ]
  },
  {
   "cell_type": "code",
   "execution_count": 145,
   "metadata": {},
   "outputs": [
    {
     "data": {
      "text/plain": [
       "0.7382938872807764"
      ]
     },
     "execution_count": 145,
     "metadata": {},
     "output_type": "execute_result"
    }
   ],
   "source": [
    "clf.score(test_data, y_test)"
   ]
  },
  {
   "cell_type": "code",
   "execution_count": 135,
   "metadata": {},
   "outputs": [
    {
     "name": "stdout",
     "output_type": "stream",
     "text": [
      "FN CN 11\n",
      "AGN FN 55\n",
      "RV TV 39\n",
      "UT W 4\n",
      "R UV 2\n",
      "RN DN 44\n",
      "R RT 18\n",
      "FN AGN 56\n",
      "RD CD 2\n",
      "TV UV 10\n",
      "UD UC 2\n",
      "TV RV 71\n",
      "ID R 5\n",
      "DN R 4\n",
      "TV RA 4\n",
      "UD UQ 8\n",
      "UT UY 4\n",
      "FV RN 4\n",
      "R RJ 3\n",
      "RA X 2\n",
      "W ID 7\n",
      "W FJ 2\n",
      "RN W 4\n",
      "DY RY 15\n",
      "RJ FJ 3\n",
      "RA R 9\n",
      "AGN CN 6\n",
      "UT UA 2\n",
      "FN RN 14\n",
      "R RD 10\n",
      "U R 6\n",
      "TV DJ 4\n",
      "TV FV 11\n",
      "RD R 17\n",
      "AGD RD 7\n",
      "TV W 2\n",
      "UT RT 3\n",
      "R U 16\n",
      "TV IV 8\n",
      "FV TV 13\n",
      "R RA 10\n",
      "R RN 6\n",
      "TV X 5\n",
      "RD RQ 5\n",
      "R W 18\n",
      "TV U 4\n",
      "RY DY 26\n",
      "R RY 10\n",
      "RJ R 3\n",
      "RA UV 2\n",
      "U W 3\n",
      "RY FY 6\n",
      "AGA RA 5\n",
      "TV R 8\n",
      "RV UV 14\n",
      "TV AGV 11\n",
      "CN FN 15\n",
      "DJ R 4\n",
      "FV IV 2\n",
      "W U 9\n",
      "R AGV 2\n",
      "RV IV 54\n",
      "W AS 11\n",
      "FV RV 8\n",
      "RT R 19\n",
      "UT R 23\n",
      "TV RJ 2\n",
      "FV UC 3\n",
      "CN AGN 7\n",
      "UD U 2\n",
      "RV AS 6\n",
      "RY ID 2\n",
      "DJ RJ 9\n",
      "W RN 4\n",
      "RV DV 15\n",
      "UD RA 5\n",
      "TV AS 3\n",
      "R UT 11\n",
      "IQ R 2\n",
      "RV FV 9\n",
      "DY RC 3\n",
      "AGD RQ 2\n",
      "W R 16\n",
      "RJ DJ 25\n",
      "RN CN 2\n",
      "UV W 2\n",
      "FY RY 2\n",
      "FN DN 4\n",
      "RY UY 3\n",
      "RJ CQ 8\n",
      "ID RT 2\n",
      "FN DJ 3\n",
      "RN R 11\n",
      "RD FD 14\n",
      "RD CQ 2\n",
      "RN L 8\n",
      "RJ ID 2\n",
      "AGN IN 3\n",
      "UD R 7\n",
      "RJ RN 2\n",
      "U UV 3\n",
      "R AGN 2\n",
      "UD DA 3\n",
      "RN IN 17\n",
      "UV RA 2\n",
      "RA AGA 17\n",
      "RY W 2\n",
      "AGV TV 2\n",
      "RV AGV 13\n",
      "UC UY 2\n",
      "FV R 6\n",
      "RQ R 2\n",
      "DN RN 10\n",
      "RV U 2\n",
      "RA UD 2\n",
      "RA TV 3\n",
      "RT ID 4\n",
      "R RC 10\n",
      "RN RA 12\n",
      "TV DV 2\n",
      "RY RC 3\n",
      "RV R 15\n",
      "AGN DN 3\n",
      "R UY 7\n",
      "RA DA 3\n",
      "R ID 8\n",
      "UC R 3\n",
      "RJ UQ 2\n",
      "RJ IJ 2\n",
      "UV UA 2\n",
      "UT UC 6\n",
      "UA UN 2\n",
      "DY RJ 3\n",
      "R DY 2\n",
      "X RV 2\n",
      "FV DV 2\n",
      "RN RV 2\n",
      "W X 6\n",
      "CL RY 2\n",
      "DD R 2\n",
      "DJ RN 2\n",
      "RV DJ 3\n",
      "AGN RN 7\n",
      "AGV RV 3\n",
      "UY U 2\n",
      "IN DN 2\n",
      "RT L 2\n",
      "RC RT 6\n",
      "IN RN 4\n",
      "RV RY 2\n",
      "FN IN 3\n",
      "R AGD 2\n",
      "FV U 2\n",
      "RT RY 2\n",
      "W DN 3\n",
      "RV ID 4\n",
      "DJ DN 2\n",
      "RN ID 6\n",
      "DY R 2\n",
      "UY UT 2\n",
      "R UD 3\n",
      "RT UT 2\n",
      "FV UA 4\n",
      "DN RJ 2\n",
      "W UY 2\n",
      "UY UA 2\n",
      "RJ FN 2\n",
      "RY R 10\n",
      "CN RN 4\n",
      "IV RV 2\n",
      "RQ RA 4\n",
      "UY UC 2\n",
      "R AS 2\n",
      "RY X 4\n",
      "FN AGV 2\n",
      "RN CL 2\n",
      "R X 2\n",
      "RV RT 2\n",
      "RY UT 3\n",
      "FN IJ 2\n",
      "FD RD 4\n",
      "RN AGN 3\n",
      "UD AGQ 3\n",
      "RA ID 2\n",
      "AGV IV 2\n",
      "RN UN 2\n",
      "RY FV 3\n",
      "UA U 3\n",
      "ID RY 4\n",
      "UD AGD 2\n",
      "RC R 3\n",
      "RD AGD 8\n",
      "RV CQ 2\n",
      "RT DY 2\n",
      "UA UC 2\n",
      "IJ RJ 2\n",
      "UA UY 2\n",
      "UD W 2\n",
      "FV RY 2\n",
      "DY FY 2\n",
      "UV RV 2\n",
      "UC UT 3\n",
      "FV AGV 2\n",
      "R DJ 2\n",
      "UT U 2\n",
      "TV AGA 2\n",
      "RV L 2\n",
      "DJ FN 2\n",
      "TV UA 2\n",
      "W RT 2\n"
     ]
    }
   ],
   "source": [
    "predictions = clf.predict(test_data)\n",
    "values = list(y_test)\n",
    "count = 0\n",
    "dict_errors = {}\n",
    "for i in range(len(predictions)):\n",
    "    if predictions[i] != values[i]:\n",
    "        tuple_err = predictions[i] + ' ' + values[i]\n",
    "        if tuple_err in dict_errors:\n",
    "            dict_errors[tuple_err] += 1\n",
    "        else:\n",
    "            dict_errors[tuple_err] = 1\n",
    "\n",
    "for t in dict_errors.keys():\n",
    "    if dict_errors[t] > 1:\n",
    "        print(t, dict_errors[t])"
   ]
  },
  {
   "cell_type": "code",
   "execution_count": 136,
   "metadata": {},
   "outputs": [],
   "source": [
    "importances = pd.DataFrame({'feature': list(fit_data), 'feature_importance': clf.feature_importances_})\n",
    "importances = importances.set_index('feature')"
   ]
  },
  {
   "cell_type": "code",
   "execution_count": 137,
   "metadata": {},
   "outputs": [
    {
     "data": {
      "text/plain": [
       "<matplotlib.axes._subplots.AxesSubplot at 0x351780ef0>"
      ]
     },
     "execution_count": 137,
     "metadata": {},
     "output_type": "execute_result"
    },
    {
     "data": {
      "image/png": "[encoded data removed]",
      "text/plain": [
       "<Figure size 432x288 with 1 Axes>"
      ]
     },
     "metadata": {
      "needs_background": "light"
     },
     "output_type": "display_data"
    }
   ],
   "source": [
    "importances = importances.sort_values(by=['feature_importance'], ascending=False)\n",
    "top_10 = importances[:10]\n",
    "top_10.plot(kind='barh')"
   ]
  },
  {
   "cell_type": "raw",
   "metadata": {},
   "source": []
  }
 ],
 "metadata": {
  "kernelspec": {
   "display_name": "Python 3",
   "language": "python",
   "name": "python3"
  },
  "language_info": {
   "codemirror_mode": {
    "name": "ipython",
    "version": 3
   },
   "file_extension": ".py",
   "mimetype": "text/x-python",
   "name": "python",
   "nbconvert_exporter": "python",
   "pygments_lexer": "ipython3",
   "version": "3.7.1"
  }
 },
 "nbformat": 4,
 "nbformat_minor": 2
}
