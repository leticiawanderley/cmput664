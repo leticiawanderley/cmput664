{
 "cells": [
  {
   "cell_type": "code",
   "execution_count": 87,
   "metadata": {},
   "outputs": [],
   "source": [
    "import matplotlib.pyplot as plt\n",
    "import numpy as np\n",
    "import pandas as pd\n",
    "from sklearn.model_selection import train_test_split\n",
    "from sklearn.ensemble import RandomForestClassifier"
   ]
  },
  {
   "cell_type": "code",
   "execution_count": 88,
   "metadata": {},
   "outputs": [],
   "source": [
    "df = pd.read_csv('./dataframe.csv')\n",
    "df = df.drop(['Unnamed: 0'], axis=1)\n",
    "df = df[df.language != 'Dutch']\n",
    "df = df[df.error_type != 'S']\n",
    "df = df[df.error_type != 'SA']\n",
    "df = df[df.error_type != 'SX']"
   ]
  },
  {
   "cell_type": "code",
   "execution_count": 89,
   "metadata": {},
   "outputs": [],
   "source": [
    "def concat_dummies(df, dummies):\n",
    "    for dummy in list(dummies):\n",
    "        df[dummy] = dummies[dummy]"
   ]
  },
  {
   "cell_type": "code",
   "execution_count": 90,
   "metadata": {},
   "outputs": [],
   "source": [
    "def merge_wrong_corrected_columns(df, wrong_column, corrected_column, prefix):\n",
    "    wrong = pd.get_dummies(df[wrong_column], prefix=prefix)\n",
    "    corrected = pd.get_dummies(df[corrected_column], prefix=prefix)\n",
    "    for wc in list(set(wrong) - set(corrected)):\n",
    "        corrected[wc] = 0\n",
    "    for cc in list(set(corrected) - set(wrong)):\n",
    "        wrong[cc] = 0\n",
    "    wrong = wrong.where(wrong == 1, -3)\n",
    "    wrong = wrong.where(wrong == -3, -1)\n",
    "    corrected = corrected.where(corrected != 1, 4)\n",
    "    merged = wrong.add(corrected)\n",
    "    merged = merged.where(merged != 3, 0)\n",
    "    return merged"
   ]
  },
  {
   "cell_type": "code",
   "execution_count": 91,
   "metadata": {},
   "outputs": [],
   "source": [
    "merged_pos = merge_wrong_corrected_columns(df, 'error_pos', 'correct_pos', 'u')\n",
    "merged_pos_2 = merge_wrong_corrected_columns(df, 'error_pos_2', 'correct_pos_2', 'b')\n",
    "merged_pos_3 = merge_wrong_corrected_columns(df, 'error_pos_3', 'correct_pos_3', 't')\n",
    "concat_dummies(df, merged_pos)\n",
    "concat_dummies(df, merged_pos_2)\n",
    "concat_dummies(df, merged_pos_3)"
   ]
  },
  {
   "cell_type": "code",
   "execution_count": 92,
   "metadata": {},
   "outputs": [],
   "source": [
    "languages = {'language': {'French': 1, 'Spanish': 2, 'Catalan': 3, 'Portuguese': 4, 'Italian': 5, 'Polish': 6, 'Russian': 7,\n",
    "'Greek': 8,'German': 9, 'Swedish': 10, 'Japanese': 11, 'Korean': 12, 'Turkish': 13, 'Chinese': 14, 'Thai':15}}\n",
    "df.replace(languages, inplace=True)"
   ]
  },
  {
   "cell_type": "code",
   "execution_count": 93,
   "metadata": {},
   "outputs": [],
   "source": [
    "y = df['error_type']"
   ]
  },
  {
   "cell_type": "code",
   "execution_count": 94,
   "metadata": {},
   "outputs": [],
   "source": [
    "x_train, x_test, y_train, y_test = train_test_split(df, y, test_size=0.1)\n",
    "fit_data = x_train[list(merged_pos) + list(merged_pos_2) \n",
    "        + list(merged_pos_3) + ['language']]\n",
    "test_data = x_test[list(merged_pos) + list(merged_pos_2) \n",
    "        + list(merged_pos_3) + ['language']]"
   ]
  },
  {
   "cell_type": "code",
   "execution_count": 95,
   "metadata": {},
   "outputs": [
    {
     "data": {
      "text/plain": [
       "RandomForestClassifier(bootstrap=True, class_weight=None, criterion='gini',\n",
       "            max_depth=30, max_features='auto', max_leaf_nodes=None,\n",
       "            min_impurity_decrease=0.0, min_impurity_split=None,\n",
       "            min_samples_leaf=1, min_samples_split=2,\n",
       "            min_weight_fraction_leaf=0.0, n_estimators=500, n_jobs=None,\n",
       "            oob_score=False, random_state=0, verbose=0, warm_start=False)"
      ]
     },
     "execution_count": 95,
     "metadata": {},
     "output_type": "execute_result"
    }
   ],
   "source": [
    "clf = RandomForestClassifier(n_estimators=500, max_depth=30, random_state=0)\n",
    "clf.fit(fit_data, y_train)"
   ]
  },
  {
   "cell_type": "code",
   "execution_count": 96,
   "metadata": {},
   "outputs": [
    {
     "data": {
      "text/plain": [
       "0.7101017622238769"
      ]
     },
     "execution_count": 96,
     "metadata": {},
     "output_type": "execute_result"
    }
   ],
   "source": [
    "clf.score(test_data, y_test)"
   ]
  },
  {
   "cell_type": "code",
   "execution_count": 97,
   "metadata": {},
   "outputs": [
    {
     "name": "stdout",
     "output_type": "stream",
     "text": [
      "FN AGN\n",
      "head                                               TR267*0102*2000*01\n",
      "language                                                           12\n",
      "score                                                              23\n",
      "exam_score                                                        2.3\n",
      "line                In my opinion the main advantage is the develo...\n",
      "error_position                                                     69\n",
      "error_type                                                        AGN\n",
      "correct_sentence    In my opinion the main advantage is the develo...\n",
      "error_trigram                                                 NN * * \n",
      "correct_trigram                                              NNS * * \n",
      "Name: 8400, dtype: object\n",
      "In my opinion the main advantage is the development of medical technology For example if you were hurt seriously like cutting your leg off the new medical technology could rebuild part of your body Another advantage is sharing information The more developed the technology is the quicker and easier international networking is So at the same time many people can share some information even though they live in different country\n",
      "In my opinion the main advantage is the development of medical technology For example if you were hurt seriously like cutting your leg off the new medical technology could rebuild part of your body Another advantage is sharing information The more developed the technology is the quicker and easier international networking is So at the same time many people can share some information even though they live in different countries\n",
      "TV RV\n",
      "head                                               TR564*0102*2000*01\n",
      "language                                                           11\n",
      "score                                                              31\n",
      "exam_score                                                        3.3\n",
      "line                During my stay in London I read your advertise...\n",
      "error_position                                                     22\n",
      "error_type                                                         RV\n",
      "correct_sentence    During my stay in London I read your advertise...\n",
      "error_trigram                                               MD VB VB \n",
      "correct_trigram                                             MD VB DT \n",
      "Name: 12212, dtype: object\n",
      "During my stay in London I read your advertisement and planned to enjoy seeing the musical show I had expected that I could have spend a wonderful night\n",
      "During my stay in London I read your advertisement and planned to enjoy seeing the musical show I had expected that I would have  a wonderful night\n",
      "RV IV\n",
      "head                                               TR819*0102*2000*01\n",
      "language                                                            3\n",
      "score                                                              22\n",
      "exam_score                                                        2.2\n",
      "line                Also computers and mobile phones have evolutio...\n",
      "error_position                                                      6\n",
      "error_type                                                         IV\n",
      "correct_sentence    Also computers and mobile phones have evolved ...\n",
      "error_trigram                                             VBN NNS IN \n",
      "correct_trigram                                           VBN NNS IN \n",
      "Name: 9798, dtype: object\n",
      "Also computers and mobile phones have evolutioned thanks to modern technologies Without this evolution we  probably still get on the ancient times Who wants to return to the ancient times No electricity no canalized water no healthy water no TV's no phones no PC's I'm afraid that the people on the ancient times lived although they don't have anything of these things but me and everyone of this times I'm afraid that we wouldn't like return to this life As well I think that modern technologies are necessary but also I think that  are so expensive but with time the price goes down So if the price goes down   is because anything new is at the moment for sell Is like a round tour\n",
      "Also computers and mobile phones have evolved thanks to modern technologies Without this evolution we would probably still be in  ancient times Who wants to return to  ancient times No electricity no canalized water no healthy water no TVs no phones no PCs I'm afraid that the people in  ancient times lived although they didn't have any of these things but me and everyone in these times I'm afraid that we wouldn't like to return to this life Also I think that modern technologies are necessary but also I think that they are  expensive but with time the price goes down So if the price goes down it  is because something new is at available to sell It is like a  circle\n"
     ]
    }
   ],
   "source": [
    "predictions = clf.predict(test_data)\n",
    "values = list(y_test)\n",
    "count = 0\n",
    "dict_errors = {}\n",
    "for i in range(len(predictions)):\n",
    "    if predictions[i] != values[i]:\n",
    "        tuple_err = predictions[i] + values[i]\n",
    "        if tuple_err in dict_errors:\n",
    "            dict_errors[tuple_err] += 1\n",
    "        else:\n",
    "            dict_errors[tuple_err] = 0\n",
    "            \n",
    "print(dict_errors)"
   ]
  },
  {
   "cell_type": "code",
   "execution_count": 98,
   "metadata": {},
   "outputs": [],
   "source": [
    "importances = pd.DataFrame({'feature': list(fit_data), 'feature_importance': clf.feature_importances_})\n",
    "importances = importances.set_index('feature')"
   ]
  },
  {
   "cell_type": "code",
   "execution_count": 99,
   "metadata": {},
   "outputs": [
    {
     "data": {
      "text/plain": [
       "<matplotlib.axes._subplots.AxesSubplot at 0x116a098d0>"
      ]
     },
     "execution_count": 99,
     "metadata": {},
     "output_type": "execute_result"
    },
    {
     "data": {
      "image/png": "[encoded data removed]",
      "text/plain": [
       "<Figure size 432x288 with 1 Axes>"
      ]
     },
     "metadata": {
      "needs_background": "light"
     },
     "output_type": "display_data"
    }
   ],
   "source": [
    "importances = importances.sort_values(by=['feature_importance'], ascending=False)\n",
    "top_10 = importances[:10]\n",
    "top_10.plot(kind='barh')"
   ]
  },
  {
   "cell_type": "code",
   "execution_count": null,
   "metadata": {},
   "outputs": [],
   "source": []
  }
 ],
 "metadata": {
  "kernelspec": {
   "display_name": "Python 3",
   "language": "python",
   "name": "python3"
  },
  "language_info": {
   "codemirror_mode": {
    "name": "ipython",
    "version": 3
   },
   "file_extension": ".py",
   "mimetype": "text/x-python",
   "name": "python",
   "nbconvert_exporter": "python",
   "pygments_lexer": "ipython3",
   "version": "3.7.1"
  }
 },
 "nbformat": 4,
 "nbformat_minor": 2
}
